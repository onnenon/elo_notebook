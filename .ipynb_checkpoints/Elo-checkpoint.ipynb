{
 "cells": [
  {
   "cell_type": "code",
   "execution_count": 3,
   "metadata": {},
   "outputs": [],
   "source": [
    "from ipywidgets import interact, interactive, fixed, interact_manual\n",
    "import ipywidgets as widgets"
   ]
  },
  {
   "cell_type": "markdown",
   "metadata": {},
   "source": [
    "# Elo Numbers"
   ]
  },
  {
   "cell_type": "markdown",
   "metadata": {},
   "source": [
    "This notebook is used to interactively play with the Elo for ___ game"
   ]
  },
  {
   "cell_type": "code",
   "execution_count": 4,
   "metadata": {},
   "outputs": [],
   "source": [
    "SCALING_BONUS_BASE = 0.75\n",
    "SCALING_BONUS_MOD = 0.25\n",
    "\n",
    "PLACE_FINISHED_BASE = 51\n",
    "PLACE_FINISHED_MULT = 2\n",
    "\n",
    "DOWNED_MULT = -10\n",
    "\n",
    "KILLS_MULT = 5\n",
    "KILLS_MOD = 5\n",
    "\n",
    "ASSISTS_MULT = 5\n",
    "ASSISTS_MOD = 5\n",
    "ASSISTS_DIV = 2\n",
    "\n",
    "DEATH_PENALTY = -75\n",
    "\n",
    "ACCURACY_BASE = 0.95\n",
    "ACCURACY_MULT = 0.1\n",
    "\n",
    "VICTORY_MOD = 100\n",
    "\n",
    "STAYED_MOD = 25\n",
    "\n",
    "LOSS_BASE = 1\n",
    "LOSS_MULT = 0.04\n",
    "\n",
    "TIME_SURV_MULT = 0.5\n",
    "TIME_SURV_BASE = 25\n",
    "\n",
    "\n",
    "\n",
    "def calculate_elo_change(average_lvl, player_lvl, place_finished, kills, downs, assists, accuracy, scaling_bonus, time_survived):\n",
    "    elo_change = {'lost': [], 'won_stayed': [], 'won_left': [], 'won_lived': []}\n",
    "    \n",
    "    \n",
    "    \n",
    "    return elo_change\n",
    "    "
   ]
  },
  {
   "cell_type": "markdown",
   "metadata": {},
   "source": [
    "## Variables"
   ]
  },
  {
   "cell_type": "code",
   "execution_count": 5,
   "metadata": {},
   "outputs": [
    {
     "data": {
      "text/plain": [
       "'\\nVaraibles used are:\\n    Place finished\\n    Kills\\n    Downs\\n    Assists\\n    Accuracy %\\n'"
      ]
     },
     "execution_count": 5,
     "metadata": {},
     "output_type": "execute_result"
    }
   ],
   "source": [
    "\"\"\"\n",
    "Varaibles used are:\n",
    "    Place finished\n",
    "    Kills\n",
    "    Downs\n",
    "    Assists\n",
    "    Accuracy %\n",
    "    player_level\n",
    "\"\"\""
   ]
  }
 ],
 "metadata": {
  "kernelspec": {
   "display_name": "Python 3",
   "language": "python",
   "name": "python3"
  },
  "language_info": {
   "codemirror_mode": {
    "name": "ipython",
    "version": 3
   },
   "file_extension": ".py",
   "mimetype": "text/x-python",
   "name": "python",
   "nbconvert_exporter": "python",
   "pygments_lexer": "ipython3",
   "version": "3.7.1"
  }
 },
 "nbformat": 4,
 "nbformat_minor": 2
}
