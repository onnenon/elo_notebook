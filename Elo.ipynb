{
 "cells": [
  {
   "cell_type": "code",
   "execution_count": 11,
   "metadata": {},
   "outputs": [],
   "source": [
    "from ipywidgets import interact, interactive, fixed, interact_manual\n",
    "import ipywidgets as widgets"
   ]
  },
  {
   "cell_type": "markdown",
   "metadata": {},
   "source": [
    "# Elo Numbers"
   ]
  },
  {
   "cell_type": "markdown",
   "metadata": {},
   "source": [
    "This notebook is used to interactively play with the Elo for ___ game"
   ]
  },
  {
   "cell_type": "code",
   "execution_count": 12,
   "metadata": {},
   "outputs": [],
   "source": [
    "MAX_PLAYER_LVL = 100\n",
    "MAX_GAME_SIZE = 100\n",
    "MAX_GAME_TIME = 100 #in minutes\n",
    "\n",
    "SCALING_BONUS_BASE = 0.75\n",
    "SCALING_BONUS_MOD = 0.25\n",
    "\n",
    "PLACE_FINISHED_BASE = 51\n",
    "PLACE_FINISHED_MULT = 2\n",
    "\n",
    "DOWNED_MULT = -10\n",
    "\n",
    "KILLS_MULT = 5\n",
    "KILLS_MOD = 5\n",
    "\n",
    "ASSISTS_MULT = 5\n",
    "ASSISTS_MOD = 5\n",
    "ASSISTS_DIV = 2\n",
    "\n",
    "DEATH_PENALTY = -75\n",
    "\n",
    "ACCURACY_BASE = 0.95\n",
    "ACCURACY_MULT = 0.1\n",
    "\n",
    "VICTORY_MOD = 100\n",
    "\n",
    "STAYED_MOD = 25\n",
    "\n",
    "LOSS_BASE = 1\n",
    "LOSS_MULT = 0.04\n",
    "\n",
    "TIME_SURV_MULT = 0.5\n",
    "TIME_SURV_BASE = 25\n",
    "\n",
    "\n",
    "\n",
    "def calculate_elo_change(average_lvl, player_lvl, place_finished, kills, downs, assists, \n",
    "                         accuracy, time_survived):\n",
    "    \"\"\"Function to calculate ELO change of a player with given game stats.\n",
    "    \n",
    "    Args:\n",
    "        player_lvl: Level of player who's elo change is being calculated.\n",
    "        \n",
    "        average_level: Average level of players in match.\n",
    "        \n",
    "        place_finished: Place the player finished\n",
    "        \n",
    "        kills: Number of kills the player had.\n",
    "        \n",
    "        downs: Number of times the player was \"downed\" and had to be revived.\n",
    "        \n",
    "        assists: Number of assists the player had.\n",
    "        \n",
    "        accuracy: Percentage of shots hit.\n",
    "        \n",
    "        time_survived: Time in minutes the player was a live in the game.\n",
    "    \n",
    "    Returns:\n",
    "        Dict of floats of the elo adjustments that would be made depending on if the player: lost, won, \n",
    "        died and continued to spectate while team won, died and left the game while team won.\n",
    "    \n",
    "    \"\"\"\n",
    "    elo_change = {'lost': (), 'won_stayed': (), 'won_left': (), 'won_lived': ()}\n",
    "    \n",
    "    scaling_bonus = SCALING_BONUS_BASE + (SCALING_BONUS_MOD *(average_lvl / player_lvl)\n",
    "    \n",
    "    \n",
    "    return elo_change\n",
    "    "
   ]
  },
  {
   "cell_type": "markdown",
   "metadata": {},
   "source": [
    "## Variables"
   ]
  },
  {
   "cell_type": "code",
   "execution_count": 18,
   "metadata": {
    "scrolled": false
   },
   "outputs": [
    {
     "data": {
      "application/vnd.jupyter.widget-view+json": {
       "model_id": "3ab25ae915a54f6e8154de98ebeae1a6",
       "version_major": 2,
       "version_minor": 0
      },
      "text/plain": [
       "interactive(children=(IntSlider(value=50, description='average_lvl', min=1), IntSlider(value=50, description='…"
      ]
     },
     "metadata": {},
     "output_type": "display_data"
    }
   ],
   "source": [
    "team_size = 0\n",
    "\n",
    "w = interactive(calculate_elo_change, team_size=(1,4), average_lvl=(1,MAX_PLAYER_LVL), player_lvl=(1,MAX_PLAYER_LVL), \n",
    "                place_finished=(1,int(MAX_GAME_SIZE / team_size)), kills=(0,100), downs=(0,10), assists=(0,MAX_GAME_SIZE), \n",
    "                accuracy=(0.0,1.0,0.02), time_survived=(0,MAX_GAME_TIME))\n",
    "display(w)"
   ]
  },
  {
   "cell_type": "code",
   "execution_count": null,
   "metadata": {},
   "outputs": [],
   "source": []
  }
 ],
 "metadata": {
  "kernelspec": {
   "display_name": "Python 3",
   "language": "python",
   "name": "python3"
  },
  "language_info": {
   "codemirror_mode": {
    "name": "ipython",
    "version": 3
   },
   "file_extension": ".py",
   "mimetype": "text/x-python",
   "name": "python",
   "nbconvert_exporter": "python",
   "pygments_lexer": "ipython3",
   "version": "3.7.1"
  }
 },
 "nbformat": 4,
 "nbformat_minor": 2
}
