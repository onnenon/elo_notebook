{
  "nbformat": 4,
  "nbformat_minor": 0,
  "metadata": {
    "colab": {
      "name": "Elo.ipynb",
      "version": "0.3.2",
      "provenance": [],
      "collapsed_sections": [
        "5piUETBFDHb9",
        "SCF9ZCixFKqB",
        "GDOJmBc3H8WU",
        "TpdG2TJ-Emcu",
        "18NaHOtNHwMw",
        "IiDZ9InFHllN",
        "t9Wsw79aHLft",
        "aRLiKJ6gF01Y",
        "11Qu-RpeFrmW",
        "eV1wNIGiFDue",
        "yPoGAWufE0io",
        "x5tPgWZMDQt5",
        "-2LMsvLDClWu"
      ]
    },
    "kernelspec": {
      "name": "python3",
      "display_name": "Python 3"
    }
  },
  "cells": [
    {
      "metadata": {
        "id": "7c7CEk147x4S",
        "colab_type": "text"
      },
      "cell_type": "markdown",
      "source": [
        "# Elo Numbers\n",
        "This notebook is used to interactively play with the Elo calculations for a \"Battle Royale\" style game."
      ]
    },
    {
      "metadata": {
        "id": "Uls14hSWC3vX",
        "colab_type": "text"
      },
      "cell_type": "markdown",
      "source": [
        "# Code\n",
        "All the code for calculating the different elo score changes.\n"
      ]
    },
    {
      "metadata": {
        "id": "5piUETBFDHb9",
        "colab_type": "text"
      },
      "cell_type": "markdown",
      "source": [
        "###Globals\n",
        "Global values for the elo calculations."
      ]
    },
    {
      "metadata": {
        "id": "tNRP4GOHDJTg",
        "colab_type": "code",
        "colab": {}
      },
      "cell_type": "code",
      "source": [
        "MAX_PLAYER_LVL = 100\n",
        "MAX_GAME_SIZE = 100  # in number of players\n",
        "MAX_GAME_TIME = 100  # in minutes\n",
        "\n",
        "SCALING_BONUS_BASE = 0.75\n",
        "SCALING_BONUS_MOD = 0.25\n",
        "\n",
        "PLACE_FINISHED_BASE = 51\n",
        "PLACE_FINISHED_MULT = 2\n",
        "\n",
        "DOWNED_MULT = -10\n",
        "\n",
        "KILLS_MULT = 5\n",
        "KILLS_MOD = 5\n",
        "\n",
        "ASSISTS_MULT = 5\n",
        "ASSISTS_MOD = 5\n",
        "ASSISTS_DIV = 2\n",
        "\n",
        "DEATH_PENALTY = -75\n",
        "\n",
        "ACCURACY_BASE = 0.95\n",
        "ACCURACY_MULT = 0.1\n",
        "\n",
        "VICTORY_BONUS = 100\n",
        "\n",
        "STAYED_BONUS = 25\n",
        "\n",
        "LOSS_BASE = 1\n",
        "LOSS_MULT = 0.04\n",
        "\n",
        "TIME_SURV_BASE = 0.5"
      ],
      "execution_count": 0,
      "outputs": []
    },
    {
      "metadata": {
        "id": "SCF9ZCixFKqB",
        "colab_type": "text"
      },
      "cell_type": "markdown",
      "source": [
        "###Imports"
      ]
    },
    {
      "metadata": {
        "id": "QXfwvj8177lK",
        "colab_type": "code",
        "colab": {}
      },
      "cell_type": "code",
      "source": [
        "from ipywidgets import interact, interactive, fixed, interact_manual\n",
        "import ipywidgets as widgets"
      ],
      "execution_count": 0,
      "outputs": []
    },
    {
      "metadata": {
        "id": "BLB2CyHqD5vP",
        "colab_type": "text"
      },
      "cell_type": "markdown",
      "source": [
        "###Main function to generate Elo score changes"
      ]
    },
    {
      "metadata": {
        "id": "m9nrVgGND8v0",
        "colab_type": "code",
        "colab": {}
      },
      "cell_type": "code",
      "source": [
        "def get_elo_change_scores(average_lvl, player_lvl, place_finished, kills, downs, assists, accuracy, time_survived,\n",
        "                          game_length):\n",
        "    \"\"\"Function to calculate ELO change of a player with given game stats.\n",
        "\n",
        "    Args:\n",
        "        player_lvl: Level of player who's elo change is being calculated.\n",
        "\n",
        "        average_level: Average level of players in match.\n",
        "\n",
        "        place_finished: Place the player finished\n",
        "\n",
        "        kills: Number of kills the player had.\n",
        "\n",
        "        downs: Number of times the player was \"downed\" and had to be revived.\n",
        "\n",
        "        assists: Number of assists the player had.\n",
        "\n",
        "        accuracy: Percentage of shots hit.\n",
        "\n",
        "        time_survived: Time in minutes the player was a live in the game.\n",
        "\n",
        "    Returns:\n",
        "        Dict of floats of the elo adjustments that would be made depending on if the player: lost, won,\n",
        "        died and continued to spectate while team won, died and left the game while team won.\n",
        "\n",
        "    \"\"\"\n",
        "    elo_change = {'lost': (), 'won_stayed': (), 'won_left': (), 'won_lived': ()}\n",
        "\n",
        "    place_s = calc_place_score(place_finished)\n",
        "    down_s = calc_down_score(downs)\n",
        "    kill_s = calc_kill_score(kills)\n",
        "    assist_s = calc_assist_score(assists)\n",
        "    accuracy_s = calc_accuracy_score(accuracy)\n",
        "    loss_mult = calc_loss_mult(average_lvl, player_lvl)\n",
        "    time_mult = calc_time_survived_mult(time_survived, game_length)\n",
        "\n",
        "    scaling_bonus = calc_scale_bonus(average_lvl, player_lvl)\n",
        "\n",
        "    elo_change['lost'] = calc_elo(place_s, down_s, kill_s, assist_s, accuracy_s, loss_mult, time_mult, scaling_bonus,\n",
        "                                  False, True, False)\n",
        "\n",
        "    elo_change['won_stayed'] = calc_elo(place_s, down_s, kill_s, assist_s, accuracy_s, loss_mult, time_mult,\n",
        "                                        scaling_bonus, True, True, True)\n",
        "\n",
        "    elo_change['won_left'] = calc_elo(place_s, down_s, kill_s, assist_s, accuracy_s, loss_mult, time_mult,\n",
        "                                      scaling_bonus, True, True, False)\n",
        "\n",
        "    elo_change['won_lived'] = calc_elo(place_s, down_s, kill_s, assist_s, accuracy_s, loss_mult, time_mult,\n",
        "                                       scaling_bonus, True, False, True)\n",
        "\n",
        "    return elo_change"
      ],
      "execution_count": 0,
      "outputs": []
    },
    {
      "metadata": {
        "id": "GDOJmBc3H8WU",
        "colab_type": "text"
      },
      "cell_type": "markdown",
      "source": [
        "###Calculate Elo Function"
      ]
    },
    {
      "metadata": {
        "id": "fF3J_iF6H7Br",
        "colab_type": "code",
        "colab": {}
      },
      "cell_type": "code",
      "source": [
        "def calc_elo(place_s, down_s, kill_s, assist_s, accuracy_s, loss_mult, time_mult, scaling_bonus, won, died, stayed):\n",
        "    \"\"\"Calcualtes the elo gained or lossed for a player based on scores of a single game.\n",
        "\n",
        "    Args:\n",
        "        place_s: Place score for given game.\n",
        "        down_s: Downed score for a given game.\n",
        "        kill_s: Kill score for a given game.\n",
        "        assist_s: Assist score for a given game.\n",
        "        accuracy_s: Accuracy score for a given game.\n",
        "        loss_mult: Loss multiplier for a given game.\n",
        "        time_mult: Time multiplier for a given game.\n",
        "        scaling_bonus: Scaling bonus achieved for a given game.\n",
        "        won: bool, true if the player won the game.\n",
        "        died: bool, true if player died in the game\n",
        "        stayed: bool, true if the player stayed till the end of the game.\n",
        "\n",
        "    Globals:\n",
        "        DEATH_PENALTY: Global of the elo penalty for dying.\n",
        "        STAYED_BONUS: Global of the elo bonus for staying till the end of the game.\n",
        "    \"\"\"\n",
        "    death_penalty = DEATH_PENALTY if died else 0\n",
        "    stayed_bonus = STAYED_BONUS if stayed else -STAYED_BONUS\n",
        "\n",
        "    score = 0\n",
        "    score_with_bonus = 0\n",
        "\n",
        "    if won:\n",
        "        score = (((kill_s + assist_s) * accuracy_s) * time_mult) + (\n",
        "            death_penalty + down_s + stayed_bonus + VICTORY_BONUS + place_s)\n",
        "        score_with_bonus = (((kill_s + assist_s) * accuracy_s) * time_mult) + (\n",
        "            death_penalty + down_s + stayed_bonus + place_s) + (VICTORY_BONUS * scaling_bonus)\n",
        "    else:\n",
        "        score = (((kill_s + assist_s) * accuracy_s) * time_mult) + place_s + (loss_mult * (down_s + DEATH_PENALTY))\n",
        "        score_with_bonus = score\n",
        "\n",
        "    return (score, score_with_bonus)"
      ],
      "execution_count": 0,
      "outputs": []
    },
    {
      "metadata": {
        "id": "TpdG2TJ-Emcu",
        "colab_type": "text"
      },
      "cell_type": "markdown",
      "source": [
        "##Value calculations\n",
        "Sub-sections, containing the value calculations for given score attributes."
      ]
    },
    {
      "metadata": {
        "id": "18NaHOtNHwMw",
        "colab_type": "text"
      },
      "cell_type": "markdown",
      "source": [
        "###Time Survived Multiplier Calculation"
      ]
    },
    {
      "metadata": {
        "id": "UFLM2boaHuvs",
        "colab_type": "code",
        "colab": {}
      },
      "cell_type": "code",
      "source": [
        "def calc_time_survived_mult(time_survived, game_length):\n",
        "    \"\"\"Calculates the time survived multiplier for a player for a given game.\n",
        "\n",
        "    Args:\n",
        "        time_survived: The time the player survived in minutes.\n",
        "        game_length: The length of the game in minutes.\n",
        "\n",
        "    Globals:\n",
        "        TIME_SURV_BASE: Base score for time multiplier value.\n",
        "\n",
        "    Returns:\n",
        "        Float: Calcualted time survived multiplier value.\n",
        "    \"\"\"\n",
        "    return TIME_SURV_BASE + (time_survived / game_length)\n"
      ],
      "execution_count": 0,
      "outputs": []
    },
    {
      "metadata": {
        "id": "IiDZ9InFHllN",
        "colab_type": "text"
      },
      "cell_type": "markdown",
      "source": [
        "###Loss Multiplier Calculation"
      ]
    },
    {
      "metadata": {
        "id": "5iIboWEDHnnv",
        "colab_type": "code",
        "colab": {}
      },
      "cell_type": "code",
      "source": [
        "def calc_loss_mult(average_lvl, player_lvl):\n",
        "    \"\"\"Calculates the loss multiplier for a given player.\n",
        "\n",
        "    Args:\n",
        "        average_lvl: Average level of players in a given game.\n",
        "        player_lvl: Player level.\n",
        "\n",
        "    Globals:\n",
        "        LOSS_BASE: Base value of loss multiplier.\n",
        "        LOSS_MULT: Multiplier value used to calculate loss multiplier\n",
        "    \n",
        "    Returns:\n",
        "        Float: Calculated loss multiplier for a given player and game.\n",
        "    \"\"\"\n",
        "    return LOSS_BASE + (LOSS_MULT * (player_lvl / average_lvl))"
      ],
      "execution_count": 0,
      "outputs": []
    },
    {
      "metadata": {
        "id": "t9Wsw79aHLft",
        "colab_type": "text"
      },
      "cell_type": "markdown",
      "source": [
        "###Accuracy Score"
      ]
    },
    {
      "metadata": {
        "id": "qaQ2mISrHNDa",
        "colab_type": "code",
        "colab": {}
      },
      "cell_type": "code",
      "source": [
        "def calc_accuracy_score(accuracy_percentage):\n",
        "    \"\"\"Calculates the 'Accuracy Score' based off of a given % accuracy.\n",
        "\n",
        "    Args:\n",
        "        accuracy_percentage: % accuracy of a player for a given game.\n",
        "\n",
        "    Globals:\n",
        "        ACCURACY_BASE: Global for the base value of the 'Accuracy Score'.\n",
        "        ACCURACY_MULT: Global for the multiplier used in the 'Accuracy Score'.\n",
        "        \n",
        "    Returns:\n",
        "        Float: Calculated Accuracy score between 0 and 1\n",
        "    \"\"\"\n",
        "    return ACCURACY_BASE + (accuracy_percentage * ACCURACY_MULT)"
      ],
      "execution_count": 0,
      "outputs": []
    },
    {
      "metadata": {
        "id": "aRLiKJ6gF01Y",
        "colab_type": "text"
      },
      "cell_type": "markdown",
      "source": [
        "###Assist Score Calculation"
      ]
    },
    {
      "metadata": {
        "id": "LMbrngQJF1j7",
        "colab_type": "code",
        "colab": {}
      },
      "cell_type": "code",
      "source": [
        "def calc_assist_score(assists):\n",
        "    \"\"\"Calculates the 'Assist Score' based off a given number of asssits.\n",
        "\n",
        "    Args:\n",
        "        assists: Number of assists a player had.\n",
        "\n",
        "    Globals:\n",
        "        ASSISTS_MULT: Global assists multiplier.\n",
        "        ASSISTS_MOD: Global modifier for the 'Assist Score'.\n",
        "\n",
        "    Returns:\n",
        "        Int: Calculated 'Assist Score'.\n",
        "    \"\"\"\n",
        "    return (((assists * ASSISTS_MULT) + ASSISTS_MOD) * assists) / ASSISTS_DIV"
      ],
      "execution_count": 0,
      "outputs": []
    },
    {
      "metadata": {
        "id": "11Qu-RpeFrmW",
        "colab_type": "text"
      },
      "cell_type": "markdown",
      "source": [
        "###Place Score Calculation"
      ]
    },
    {
      "metadata": {
        "id": "FEuQe6pJFbr8",
        "colab_type": "code",
        "colab": {}
      },
      "cell_type": "code",
      "source": [
        "def calc_place_score(place_finished):\n",
        "    \"\"\"Calculates the 'Place Score' based on a given place.\n",
        "\n",
        "    Args:\n",
        "        place_finished: The place a player finished in a match.\n",
        "\n",
        "    Globals: \n",
        "        PLACE_FINISHED_BASE: Global for the base score of the 'Place Score'.\n",
        "\n",
        "    Returns:\n",
        "        Int: Calculated 'Place score'.\n",
        "    \"\"\"\n",
        "    return (PLACE_FINISHED_BASE - place_finished) * 2"
      ],
      "execution_count": 0,
      "outputs": []
    },
    {
      "metadata": {
        "id": "eV1wNIGiFDue",
        "colab_type": "text"
      },
      "cell_type": "markdown",
      "source": [
        "###Kill Score Calculation"
      ]
    },
    {
      "metadata": {
        "id": "fnq1WsRMFC27",
        "colab_type": "code",
        "colab": {}
      },
      "cell_type": "code",
      "source": [
        "def calc_kill_score(kills):\n",
        "    \"\"\"Calculates the 'Kill Score' based on a given number of kills\n",
        "\n",
        "    Args:\n",
        "        kills: Number of kills.\n",
        "\n",
        "    Globals:\n",
        "        KILLS_MULT: Global kills multiplier value.\n",
        "        KILLS_MOD: Global kills modifier value.\n",
        "\n",
        "    Returns:\n",
        "        Int: Calculated 'Kill Score'.\n",
        "    \"\"\"\n",
        "    return ((kills * KILLS_MULT) + KILLS_MOD) * kills"
      ],
      "execution_count": 0,
      "outputs": []
    },
    {
      "metadata": {
        "id": "yPoGAWufE0io",
        "colab_type": "text"
      },
      "cell_type": "markdown",
      "source": [
        "###\"Downed\" Score Calculation"
      ]
    },
    {
      "metadata": {
        "id": "_BkvIxqOEzB_",
        "colab_type": "code",
        "colab": {}
      },
      "cell_type": "code",
      "source": [
        "def calc_down_score(downs):\n",
        "    \"\"\"Calculates the 'Downed Score' based on a given number of times the player was downed.\n",
        "\n",
        "    Args:\n",
        "        downs: Number of times the player was downed in a game.\n",
        "\n",
        "    Globals:\n",
        "        DOWNED_MULT: Global downed multiplier.\n",
        "    \n",
        "    Returns:\n",
        "        Int: Calculated 'Downed Score'\n",
        "    \"\"\"\n",
        "    return downs * DOWNED_MULT"
      ],
      "execution_count": 0,
      "outputs": []
    },
    {
      "metadata": {
        "id": "x5tPgWZMDQt5",
        "colab_type": "text"
      },
      "cell_type": "markdown",
      "source": [
        "###Calculate Scale Bonus"
      ]
    },
    {
      "metadata": {
        "id": "ycN3yrXVDlzl",
        "colab_type": "code",
        "colab": {}
      },
      "cell_type": "code",
      "source": [
        "def calc_scale_bonus(average_lvl, player_lvl):\n",
        "    \"\"\"Calcualtes the scale bonus of a player for a given game.\n",
        "\n",
        "    Args:\n",
        "        average_lvl: Average level of all players in a given game.\n",
        "        player_lvl: Level of player the scale bonus is being calculated for.\n",
        "\n",
        "    Globals:\n",
        "        SCALING_BONUS_BASE: Global for base bonus value.\n",
        "        SCALING_BONUS_MOD: Global modifier for bonus value.\n",
        "    \"\"\"\n",
        "    return SCALING_BONUS_BASE + (SCALING_BONUS_MOD * (average_lvl / player_lvl))"
      ],
      "execution_count": 0,
      "outputs": []
    },
    {
      "metadata": {
        "id": "M2ZgsDQw8byV",
        "colab_type": "text"
      },
      "cell_type": "markdown",
      "source": [
        "#Calculated Elo Scores\n",
        "Use the sliders below to update the calculated ELO values for a given player with the defined stats."
      ]
    },
    {
      "metadata": {
        "id": "OuyZY3J0B_1U",
        "colab_type": "code",
        "colab": {
          "base_uri": "https://localhost:8080/",
          "height": 221
        },
        "outputId": "4df9e18a-1173-4c96-f1a3-29b487ba4252"
      },
      "cell_type": "code",
      "source": [
        "average_lvl = 25\n",
        "player_lvl = 50\n",
        "place_finished = 88\n",
        "kills = 1\n",
        "downs = 7\n",
        "assists = 3\n",
        "accuracy_percent = .25\n",
        "time_survived = 3\n",
        "game_length = 25\n",
        "\n",
        "\n",
        "\n",
        "scores = get_elo_change_scores(average_lvl, player_lvl, place_finished, kills, downs, assists, accuracy_percent, time_survived, game_length)\n",
        "\n",
        "print(f\"Game Lost Elo Changes:\\n    {scores.get('lost')[0]:.2f}\\n\")\n",
        "print(f\"Game Won and player died but stayed Elo Changes:\\n    without modifier: {scores.get('won_stayed')[0]:.2f}, with modifier: {scores.get('won_stayed')[1]:.2f}\\n\")\n",
        "print(f\"Game Won and player died but left the game Elo Changes:\\n    without modifier: {scores.get('won_left')[0]:.2f}, with modifier: {scores.get('won_left')[1]:.2f}\\n\")\n",
        "print(f\"Game Won and player lived Elo Changes:\\n    without modifier: {scores.get('won_lived')[0]:.2f}, with modifier: {scores.get('won_lived')[1]:.2f}\\n\")\n"
      ],
      "execution_count": 82,
      "outputs": [
        {
          "output_type": "stream",
          "text": [
            "Game Lost Elo Changes:\n",
            "    -206.42\n",
            "\n",
            "Game Won and player died but stayed Elo Changes:\n",
            "    without modifier: -69.82, with modifier: -82.32\n",
            "\n",
            "Game Won and player died but left the game Elo Changes:\n",
            "    without modifier: -119.82, with modifier: -132.32\n",
            "\n",
            "Game Won and player lived Elo Changes:\n",
            "    without modifier: 5.18, with modifier: -7.32\n",
            "\n"
          ],
          "name": "stdout"
        }
      ]
    },
    {
      "metadata": {
        "id": "-2LMsvLDClWu",
        "colab_type": "text"
      },
      "cell_type": "markdown",
      "source": [
        "## Interactive Inputs\n",
        "These cells only work if you are running the notebook locally.\n"
      ]
    },
    {
      "metadata": {
        "id": "W-NyaL2e8Abi",
        "colab_type": "code",
        "outputId": "8bf82113-3407-4736-f0f2-396cf1e3de7a",
        "colab": {
          "base_uri": "https://localhost:8080/",
          "height": 122
        }
      },
      "cell_type": "code",
      "source": [
        "team_size = 0\n",
        "\n",
        "elo_scores = interact(get_elo_change_scores, average_lvl=(1,MAX_PLAYER_LVL), player_lvl=(1,MAX_PLAYER_LVL), \n",
        "                place_finished=(1,int(MAX_GAME_SIZE)), kills=(0,100), downs=(0,10), assists=(0,MAX_GAME_SIZE), \n",
        "                accuracy=(0.0,1.0,0.01), time_survived=(0,MAX_GAME_TIME), game_length=(0, MAX_GAME_TIME))\n",
        "\n",
        "display(elo_scores)"
      ],
      "execution_count": 80,
      "outputs": [
        {
          "output_type": "display_data",
          "data": {
            "text/plain": [
              "{'lost': (28559.5, 28559.5),\n",
              " 'won_left': (28639.5, 28639.5),\n",
              " 'won_lived': (28764.5, 28764.5),\n",
              " 'won_stayed': (28689.5, 28689.5)}"
            ]
          },
          "metadata": {
            "tags": []
          }
        },
        {
          "output_type": "display_data",
          "data": {
            "text/plain": [
              "<function __main__.get_elo_change_scores>"
            ]
          },
          "metadata": {
            "tags": []
          }
        }
      ]
    }
  ]
}